{
 "cells": [
  {
   "cell_type": "markdown",
   "metadata": {},
   "source": [
    "### Task1"
   ]
  },
  {
   "cell_type": "markdown",
   "metadata": {},
   "source": [
    "Напишите уравнение параболы, проходящей через три точки (x,y):\n",
    "(1,2), (3,10), (5,1)"
   ]
  },
  {
   "cell_type": "code",
   "execution_count": 2,
   "metadata": {},
   "outputs": [],
   "source": [
    "# подключение внешних библиотек\n",
    "import numpy as np\n",
    "import matplotlib.pyplot as plt\n",
    "%matplotlib inline"
   ]
  },
  {
   "cell_type": "markdown",
   "metadata": {},
   "source": [
    "Уравнение параболы в общем виде:\n",
    "\n",
    "    a*x**2 + b*x + c = y\n",
    "\n",
    "Т. е. при подстановке (x=1, y=2), (x=3, y=10), (x=5, y=1)\n",
    "в уравнение, получаем систему уравнений:\n",
    "\n",
    "    a*1**2 + b*1 + c = 2\n",
    "    a*3**2 + b*3 + c = 10\n",
    "    a*5**2 + b*5 + c = 1\n",
    "    \n",
    "При несложных математических расчётах получаем a = -2.125, b = 12.5, c = -8.375\n",
    "\n",
    "Получаем следующее Уравнение:\n",
    "\n",
    "    -2.125*x**2 + 12.5*x - 8.375\n",
    "\n",
    "Построим график и проведем проверку в следующих ячейках"
   ]
  },
  {
   "cell_type": "code",
   "execution_count": 3,
   "metadata": {},
   "outputs": [
    {
     "data": {
      "image/png": "[encoded data removed]",
      "text/plain": [
       "<Figure size 720x720 with 1 Axes>"
      ]
     },
     "metadata": {
      "needs_background": "light"
     },
     "output_type": "display_data"
    }
   ],
   "source": [
    "x = np.linspace(-25, 30, 20)\n",
    "y = -2.125 * x**2 + 12.5*x - 8.375\n",
    "\n",
    "plt.figure(figsize=(10, 10))\n",
    "plt.plot(x, y, '-b', )\n",
    "plt.xlabel('x')\n",
    "plt.ylabel('y')\n",
    "plt.show()"
   ]
  },
  {
   "cell_type": "code",
   "execution_count": 7,
   "metadata": {},
   "outputs": [
    {
     "data": {
      "text/plain": [
       "2.0"
      ]
     },
     "execution_count": 7,
     "metadata": {},
     "output_type": "execute_result"
    }
   ],
   "source": [
    "y1 = -(17/8) * 1**2 + 12.5*1 - 8.375\n",
    "y1"
   ]
  },
  {
   "cell_type": "code",
   "execution_count": 8,
   "metadata": {},
   "outputs": [
    {
     "data": {
      "text/plain": [
       "10.0"
      ]
     },
     "execution_count": 8,
     "metadata": {},
     "output_type": "execute_result"
    }
   ],
   "source": [
    "y2 = -(17/8) * 3**2 + 12.5*3 - 8.375\n",
    "y2"
   ]
  },
  {
   "cell_type": "code",
   "execution_count": 9,
   "metadata": {},
   "outputs": [
    {
     "data": {
      "text/plain": [
       "1.0"
      ]
     },
     "execution_count": 9,
     "metadata": {},
     "output_type": "execute_result"
    }
   ],
   "source": [
    "y3 = -(17/8) * 5**2 + 12.5*5 - 8.375\n",
    "y3"
   ]
  },
  {
   "cell_type": "markdown",
   "metadata": {},
   "source": [
    "### Task2"
   ]
  },
  {
   "cell_type": "markdown",
   "metadata": {},
   "source": [
    "Известно, что свежий огурец на 99% состоит из воды. Месяц назад взвесили мешок со свежими огурцами. Получилось, что огурцов ровно 100 кг. Мешок убрали, а через месяц снова взвесили. Огурцы за это время усохли, и теперь вода составляет уже только 98% их веса. Сколько теперь (в кг) весят огурцы?"
   ]
  },
  {
   "cell_type": "markdown",
   "metadata": {},
   "source": [
    "Решение:\n",
    "    Раньше соотношение воды к не воде в огурцах было 99 к 1, но после потери массы воды 'x' в процентном соотношении теперь стало 98 к 2.\n",
    "    Это можно выразить формулой: \n",
    "$$\\frac{99 - x}{1} = \\frac{98}{2}$$\n",
    "Решив её получим x = 50, то есть на 50 % огурец должен меньше весить (причем все эти проценты приходятся на воду, чтобы соотношение воды к не воде стало 98 к 2).\n",
    "Поскольку в мешке было 100 кг (и это 100 %), то мешок через месяц стал весить 50 кг (ушло 50 кг воды, или 50 % массы огурцов). "
   ]
  },
  {
   "cell_type": "markdown",
   "metadata": {},
   "source": [
    "### Task3"
   ]
  },
  {
   "cell_type": "markdown",
   "metadata": {},
   "source": [
    "1) $2^x = 256$ ...\n",
    "$2^x = 2^8$ ...\n",
    "$x = 8$"
   ]
  },
  {
   "cell_type": "markdown",
   "metadata": {},
   "source": [
    "2) $2^x = 300$ ... $x = log_2 300$"
   ]
  },
  {
   "cell_type": "markdown",
   "metadata": {},
   "source": [
    "3) $log_8 2^{8x-4} = 4$ ... $log_8 2^{8x-4} = 4log_8 8$ ... $log_8 2^{8x-4} = log_8 2^{3*4}$ ... $8x - 4 = 12$ ... $x = 2$ "
   ]
  },
  {
   "cell_type": "markdown",
   "metadata": {},
   "source": [
    "4) $3^{log_9 (5x-5)} = 5$ ... $(5x-5)^{log_9 3} = 5$ ... $(5x-5)^{\\frac{1}{2}} = 5$ ... $5x-5 = 25$ ... $x = 6$"
   ]
  },
  {
   "cell_type": "markdown",
   "metadata": {},
   "source": [
    "5) $x^{log_3 x+1} = 9$  не решено"
   ]
  },
  {
   "cell_type": "markdown",
   "metadata": {},
   "source": [
    "### Task4"
   ]
  },
  {
   "cell_type": "markdown",
   "metadata": {},
   "source": [
    "6) $log_4 16 = log_4 4^2 = 2$"
   ]
  },
  {
   "cell_type": "markdown",
   "metadata": {},
   "source": [
    "7) $log_5 \\frac{1}{25} = log_5 \\frac{1}{5^2} = log_5 1 - log_5 5^2 = 0 - 2 = -2$"
   ]
  },
  {
   "cell_type": "markdown",
   "metadata": {},
   "source": [
    "8) $log_{25} 5 = \\frac{1}{log_5 25} = \\frac{1}{2}$"
   ]
  },
  {
   "cell_type": "markdown",
   "metadata": {},
   "source": [
    "9) $log_3 \\sqrt{27} = log_3 3\\sqrt{3} = log_3 3 + log_3 \\sqrt{3} = 1 + \\frac{1}{2} = 1.5$ "
   ]
  },
  {
   "cell_type": "markdown",
   "metadata": {},
   "source": [
    "10) $log_2 12 - log_2 3 = log_2 \\frac{12}{3} = log_2 4 = log_2 2^2 = 2$"
   ]
  },
  {
   "cell_type": "markdown",
   "metadata": {},
   "source": [
    "11) $log_6 12 + log_6 3 = log_6 (12*3) = log_6 6^2 = 2$"
   ]
  },
  {
   "cell_type": "markdown",
   "metadata": {},
   "source": [
    "12) $e^{ln5} = 5$"
   ]
  },
  {
   "cell_type": "markdown",
   "metadata": {},
   "source": [
    "13) $\\frac{log_2 225}{log_2 15} = log_{15}225 = log_{15}15^2 = 2$"
   ]
  },
  {
   "cell_type": "markdown",
   "metadata": {},
   "source": [
    "14) $log_4 32 + log_{0.1}10 = log_4 (16*2) + (-1) = log_4 4^2 + log_4 4^{\\frac{1}{2}}-1 = 2+\\frac{1}{2}-1 = 1.5$"
   ]
  },
  {
   "cell_type": "markdown",
   "metadata": {},
   "source": [
    "15) $9^{log_3 \\sqrt{5}} = 3^{2log_3 \\sqrt{5}} = 3^{log_3 (\\sqrt{5})^2} = 3^{log_3 5} = 5$"
   ]
  }
 ],
 "metadata": {
  "kernelspec": {
   "display_name": "Python 3",
   "language": "python",
   "name": "python3"
  },
  "language_info": {
   "codemirror_mode": {
    "name": "ipython",
    "version": 3
   },
   "file_extension": ".py",
   "mimetype": "text/x-python",
   "name": "python",
   "nbconvert_exporter": "python",
   "pygments_lexer": "ipython3",
   "version": "3.7.3"
  }
 },
 "nbformat": 4,
 "nbformat_minor": 4
}

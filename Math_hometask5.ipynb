{
 "cells": [
  {
   "cell_type": "markdown",
   "metadata": {},
   "source": [
    "### Задание 1\n",
    "Напишите код, моделирующий выпадение поля в рулетке (с учетом поля зеро)."
   ]
  },
  {
   "cell_type": "code",
   "execution_count": 164,
   "metadata": {},
   "outputs": [],
   "source": [
    "import numpy as np\n",
    "import matplotlib.pyplot as plt\n",
    "import itertools\n",
    "from functools import reduce"
   ]
  },
  {
   "cell_type": "code",
   "execution_count": 165,
   "metadata": {},
   "outputs": [
    {
     "name": "stdin",
     "output_type": "stream",
     "text": [
      " \n"
     ]
    },
    {
     "name": "stdout",
     "output_type": "stream",
     "text": [
      "Черное поле\n"
     ]
    },
    {
     "name": "stdin",
     "output_type": "stream",
     "text": [
      " \n"
     ]
    },
    {
     "name": "stdout",
     "output_type": "stream",
     "text": [
      "Черное поле\n"
     ]
    },
    {
     "name": "stdin",
     "output_type": "stream",
     "text": [
      " \n"
     ]
    },
    {
     "name": "stdout",
     "output_type": "stream",
     "text": [
      "Черное поле\n"
     ]
    },
    {
     "name": "stdin",
     "output_type": "stream",
     "text": [
      " \n"
     ]
    },
    {
     "name": "stdout",
     "output_type": "stream",
     "text": [
      "Красное поле\n"
     ]
    },
    {
     "name": "stdin",
     "output_type": "stream",
     "text": [
      " \n"
     ]
    },
    {
     "name": "stdout",
     "output_type": "stream",
     "text": [
      "Красное поле\n"
     ]
    },
    {
     "name": "stdin",
     "output_type": "stream",
     "text": [
      " \n"
     ]
    },
    {
     "name": "stdout",
     "output_type": "stream",
     "text": [
      "Черное поле\n"
     ]
    },
    {
     "name": "stdin",
     "output_type": "stream",
     "text": [
      " \n"
     ]
    },
    {
     "name": "stdout",
     "output_type": "stream",
     "text": [
      "Черное поле\n"
     ]
    },
    {
     "name": "stdin",
     "output_type": "stream",
     "text": [
      " \n"
     ]
    },
    {
     "name": "stdout",
     "output_type": "stream",
     "text": [
      "Красное поле\n"
     ]
    },
    {
     "name": "stdin",
     "output_type": "stream",
     "text": [
      " \n"
     ]
    },
    {
     "name": "stdout",
     "output_type": "stream",
     "text": [
      "Черное поле\n"
     ]
    },
    {
     "name": "stdin",
     "output_type": "stream",
     "text": [
      " \n"
     ]
    },
    {
     "name": "stdout",
     "output_type": "stream",
     "text": [
      "Красное поле\n"
     ]
    }
   ],
   "source": [
    "# variant 1\n",
    "recall = 10\n",
    "\n",
    "for i in range(recall):\n",
    "    click = input()\n",
    "    field = round(np.random.uniform(0, 36))\n",
    "    if field == 0:\n",
    "        print('Поле Zero')\n",
    "    elif field % 2 == 1:\n",
    "        print('Красное поле')\n",
    "    else:\n",
    "        print('Черное поле')\n",
    "        "
   ]
  },
  {
   "cell_type": "code",
   "execution_count": 166,
   "metadata": {},
   "outputs": [
    {
     "name": "stdout",
     "output_type": "stream",
     "text": [
      "P(zero) = 0.0153, P(red) = 0.4925, P(black) = 0.4922\n"
     ]
    }
   ],
   "source": [
    "# variant 2\n",
    "recall = 10000\n",
    "zero = red = black = 0\n",
    "\n",
    "for i in range(recall):\n",
    "    field = round(np.random.uniform(0, 36))\n",
    "    if field == 0:\n",
    "        zero += 1\n",
    "    elif field % 2 == 1:\n",
    "        red += 1\n",
    "    else:\n",
    "        black += 1\n",
    "\n",
    "print(f'P(zero) = {zero / recall}, P(red) = {red / recall}, P(black) = {black / recall}')"
   ]
  },
  {
   "cell_type": "markdown",
   "metadata": {},
   "source": [
    "### Задание 2\n",
    "1) Напишите код, проверяющий любую из теорем сложения или умножения вероятности на примере рулетки или подбрасывания монетки."
   ]
  },
  {
   "cell_type": "markdown",
   "metadata": {},
   "source": [
    "###### Для наглядности используем рулетку с позициями от 1 до 10, где черные будут четными, а красные - нечетными.\n",
    "###### Докажем, что вероятность выпадения четного, а затем 9-ки будет $P(четн.) * P(9)$ т.е. около $0.5 * 0.1$"
   ]
  },
  {
   "cell_type": "code",
   "execution_count": 167,
   "metadata": {},
   "outputs": [
    {
     "name": "stdout",
     "output_type": "stream",
     "text": [
      "P(red) = 0.4968, P(black) = 0.5032, P(nineaftblack) = 0.0568\n"
     ]
    }
   ],
   "source": [
    "recall = 10000\n",
    "red = black = nineaftblack = 0\n",
    "chance = False  # если chance is True, это значит что первое событие состоялось, \n",
    "                # и теперь есть вероятность наступления второго, связанного с ним, события\n",
    "\n",
    "for i in range(recall):\n",
    "    field = round(np.random.uniform(1, 10))\n",
    "    if chance is True:\n",
    "        chance = False\n",
    "        if field == 9:\n",
    "            nineaftblack += 1       \n",
    "    if field % 2 == 0:\n",
    "        black += 1\n",
    "        chance = True\n",
    "    else:\n",
    "        red += 1\n",
    "\n",
    "print(f'P(red) = {red / recall}, P(black) = {black / recall}, P(nineaftblack) = {nineaftblack / recall}')"
   ]
  },
  {
   "cell_type": "markdown",
   "metadata": {},
   "source": [
    "2) Сгенерируйте десять выборок случайных чисел х0, …, х9.\n",
    "и постройте гистограмму распределения случайной суммы х0+х1+ …+ х9."
   ]
  },
  {
   "cell_type": "code",
   "execution_count": 168,
   "metadata": {},
   "outputs": [
    {
     "name": "stdout",
     "output_type": "stream",
     "text": [
      "[45.53941773 51.12888978 62.90177753 41.61506686 47.94118743 48.68186251\n",
      " 52.13293145 52.79716141 52.70246157 27.57092576]\n"
     ]
    },
    {
     "data": {
      "text/plain": [
       "(array([1., 0., 0., 1., 0., 3., 2., 2., 0., 1.]),\n",
       " array([27.57092576, 31.10401094, 34.63709611, 38.17018129, 41.70326647,\n",
       "        45.23635165, 48.76943682, 52.302522  , 55.83560718, 59.36869235,\n",
       "        62.90177753]),\n",
       " <a list of 10 Patch objects>)"
      ]
     },
     "execution_count": 168,
     "metadata": {},
     "output_type": "execute_result"
    },
    {
     "data": {
      "image/png": "[encoded data removed]",
      "text/plain": [
       "<Figure size 432x288 with 1 Axes>"
      ]
     },
     "metadata": {
      "needs_background": "light"
     },
     "output_type": "display_data"
    }
   ],
   "source": [
    "x = np.random.uniform(0, 10, (10, 10))\n",
    "print(sum(x))\n",
    "plt.hist(sum(x), bins=10)\n"
   ]
  },
  {
   "cell_type": "markdown",
   "metadata": {},
   "source": [
    "### Задание 3\n",
    "1) Дополните код Монте-Карло последовательности независимых испытаний расчетом соответствующих вероятностей (через биномиальное распределение) \n",
    "и сравните результаты."
   ]
  },
  {
   "cell_type": "code",
   "execution_count": 324,
   "metadata": {},
   "outputs": [
    {
     "name": "stdout",
     "output_type": "stream",
     "text": [
      "кол-во удач = 27, кол-во испытаний = 100, вероятность удачи 0.27\n"
     ]
    }
   ],
   "source": [
    "k, n = 0, 100\n",
    "a = np.random.randint(0, 2, n)\n",
    "b = np.random.randint(0, 2, n)\n",
    "c = np.random.randint(0, 2, n)\n",
    "d = np.random.randint(0, 2, n)\n",
    "x = a + b + c + d\n",
    "for i in range(n):\n",
    "    if x[i] == 1:\n",
    "        k += 1\n",
    "# print(a, b, c, d)\n",
    "# print(x)\n",
    "print(f'кол-во удач = {k}, кол-во испытаний = {n}, вероятность удачи {k / n}')"
   ]
  },
  {
   "cell_type": "code",
   "execution_count": 328,
   "metadata": {},
   "outputs": [
    {
     "name": "stdout",
     "output_type": "stream",
     "text": [
      "0000\n",
      "0001\n",
      "0010\n",
      "0011\n",
      "0100\n",
      "0101\n",
      "0110\n",
      "0111\n",
      "1000\n",
      "1001\n",
      "1010\n",
      "1011\n",
      "1100\n",
      "1101\n",
      "1110\n",
      "1111\n",
      "\n",
      "Всего комбинаций = 16\n",
      "Комбинаций, где поровну 0 и 1 = 6\n",
      "Вероятность выпадения таких комбинаций = 0.375\n"
     ]
    }
   ],
   "source": [
    "howmany1 = sum2 = allcomb = 0\n",
    "for p in itertools.product('01' ,repeat=4):\n",
    "    allcomb += 1\n",
    "    print(''.join(p))\n",
    "    for i in p:\n",
    "        if i == '1':\n",
    "            howmany1 += 1  \n",
    "    if howmany1 == 2:\n",
    "        sum2 += 1\n",
    "    howmany1 = 0\n",
    "    \n",
    "print(f'\\nВсего комбинаций = {allcomb}') \n",
    "print(f'Комбинаций, где поровну 0 и 1 = {sum2}')\n",
    "print(f'Вероятность выпадения таких комбинаций = {sum2 / allcomb}')"
   ]
  },
  {
   "cell_type": "markdown",
   "metadata": {},
   "source": [
    "###### Вероятность $p = \\frac{6}{16} = 0.375$ . \n",
    "###### Следовательно $q = 1 - p = 0.625$.\n",
    "###### Согласно формуле Бернулли $P_n^k = C_n^k*p^k*q^{n-k} = \\frac{n!}{k!*(n-k)!}*p^k*q^{n-k}$\n",
    "###### Рассмотрим код для нашего случая:"
   ]
  },
  {
   "cell_type": "code",
   "execution_count": 325,
   "metadata": {},
   "outputs": [
    {
     "name": "stdout",
     "output_type": "stream",
     "text": [
      "Кол-во испытаний = 20, вероятность выпадания комбинации = 0.375\n",
      "\tВероятность 1 удач = 0.0009926167350636332\n",
      "\tВероятность 2 удач = 0.005657915389862709\n",
      "\tВероятность 3 удач = 0.020368495403505753\n",
      "\tВероятность 4 удач = 0.051939663278939674\n",
      "\tВероятность 5 удач = 0.09972415349556417\n",
      "\tВероятность 6 удач = 0.14958623024334625\n",
      "\tВероятность 7 удач = 0.17950347629201552\n",
      "\tВероятность 8 удач = 0.17501588938471513\n",
      "\tВероятность 9 удач = 0.1400127115077721\n",
      "\tВероятность 10 удач = 0.09240838959512958\n",
      "\tВероятность 11 удач = 0.050404576142797954\n",
      "\tВероятность 12 удач = 0.022682059264259077\n",
      "\tВероятность 13 удач = 0.008374914189880275\n",
      "\tВероятность 14 удач = 0.0025124742569640826\n",
      "\tВероятность 15 удач = 0.0006029938216713798\n",
      "\tВероятность 16 удач = 0.00011306134156338372\n",
      "\tВероятность 17 удач = 1.5961601161889466e-05\n",
      "\tВероятность 18 удач = 1.5961601161889466e-06\n",
      "\tВероятность 19 удач = 1.0081011260140715e-07\n"
     ]
    }
   ],
   "source": [
    "n = 20  # кол-во испытаний\n",
    "p = 0.375  # вероятность выпадания нужной комбинации\n",
    "\n",
    "\n",
    "def factorial(n):\n",
    "    return reduce((lambda x,y: x*y),range(1,n+1))\n",
    "\n",
    "\n",
    "def P_n_k(p, n, k):\n",
    "    C_n_k = factorial(n) / (factorial(k) * factorial(n - k))\n",
    "    return C_n_k * p**k * (1 - p)**(n - k)\n",
    "\n",
    "\n",
    "print(f'Кол-во испытаний = {n}, вероятность выпадания комбинации = {p}')\n",
    "for k in range(1, n):\n",
    "    print(f'\\tВероятность {k} удач = {P_n_k(p, n, k)}')"
   ]
  },
  {
   "cell_type": "markdown",
   "metadata": {},
   "source": [
    "Елси это не то, что нужно было получить, значит задача мною была неправильно понята("
   ]
  },
  {
   "cell_type": "markdown",
   "metadata": {},
   "source": [
    "##### 2) Повторите расчеты биномиальных коэффициентов и вероятностей k успехов \n",
    "##### в последовательности из n независимых испытаний, взяв другие значения n и k."
   ]
  },
  {
   "cell_type": "markdown",
   "metadata": {},
   "source": [
    "Уже решено в предыдущем пункте) "
   ]
  },
  {
   "cell_type": "markdown",
   "metadata": {},
   "source": [
    "### Задание 4\n",
    "Из урока по комбинаторике повторите расчеты, сгенерировав возможные варианты перестановок для других значений n и k"
   ]
  },
  {
   "cell_type": "code",
   "execution_count": 341,
   "metadata": {},
   "outputs": [
    {
     "name": "stdout",
     "output_type": "stream",
     "text": [
      "('A', 'B', 'C', 'D', 'E')\n",
      "('A', 'B', 'C', 'E', 'D')\n",
      "('A', 'B', 'D', 'C', 'E')\n",
      "('A', 'B', 'D', 'E', 'C')\n",
      "('A', 'B', 'E', 'C', 'D')\n",
      "('A', 'B', 'E', 'D', 'C')\n",
      "('A', 'C', 'B', 'D', 'E')\n",
      "('A', 'C', 'B', 'E', 'D')\n",
      "('A', 'C', 'D', 'B', 'E')\n",
      "('A', 'C', 'D', 'E', 'B')\n",
      "('A', 'C', 'E', 'B', 'D')\n",
      "('A', 'C', 'E', 'D', 'B')\n",
      "('A', 'D', 'B', 'C', 'E')\n",
      "('A', 'D', 'B', 'E', 'C')\n",
      "('A', 'D', 'C', 'B', 'E')\n",
      "('A', 'D', 'C', 'E', 'B')\n",
      "('A', 'D', 'E', 'B', 'C')\n",
      "('A', 'D', 'E', 'C', 'B')\n",
      "('A', 'E', 'B', 'C', 'D')\n",
      "('A', 'E', 'B', 'D', 'C')\n",
      "('A', 'E', 'C', 'B', 'D')\n",
      "('A', 'E', 'C', 'D', 'B')\n",
      "('A', 'E', 'D', 'B', 'C')\n",
      "('A', 'E', 'D', 'C', 'B')\n",
      "('B', 'A', 'C', 'D', 'E')\n",
      "('B', 'A', 'C', 'E', 'D')\n",
      "('B', 'A', 'D', 'C', 'E')\n",
      "('B', 'A', 'D', 'E', 'C')\n",
      "('B', 'A', 'E', 'C', 'D')\n",
      "('B', 'A', 'E', 'D', 'C')\n",
      "('B', 'C', 'A', 'D', 'E')\n",
      "('B', 'C', 'A', 'E', 'D')\n",
      "('B', 'C', 'D', 'A', 'E')\n",
      "('B', 'C', 'D', 'E', 'A')\n",
      "('B', 'C', 'E', 'A', 'D')\n",
      "('B', 'C', 'E', 'D', 'A')\n",
      "('B', 'D', 'A', 'C', 'E')\n",
      "('B', 'D', 'A', 'E', 'C')\n",
      "('B', 'D', 'C', 'A', 'E')\n",
      "('B', 'D', 'C', 'E', 'A')\n",
      "('B', 'D', 'E', 'A', 'C')\n",
      "('B', 'D', 'E', 'C', 'A')\n",
      "('B', 'E', 'A', 'C', 'D')\n",
      "('B', 'E', 'A', 'D', 'C')\n",
      "('B', 'E', 'C', 'A', 'D')\n",
      "('B', 'E', 'C', 'D', 'A')\n",
      "('B', 'E', 'D', 'A', 'C')\n",
      "('B', 'E', 'D', 'C', 'A')\n",
      "('C', 'A', 'B', 'D', 'E')\n",
      "('C', 'A', 'B', 'E', 'D')\n",
      "('C', 'A', 'D', 'B', 'E')\n",
      "('C', 'A', 'D', 'E', 'B')\n",
      "('C', 'A', 'E', 'B', 'D')\n",
      "('C', 'A', 'E', 'D', 'B')\n",
      "('C', 'B', 'A', 'D', 'E')\n",
      "('C', 'B', 'A', 'E', 'D')\n",
      "('C', 'B', 'D', 'A', 'E')\n",
      "('C', 'B', 'D', 'E', 'A')\n",
      "('C', 'B', 'E', 'A', 'D')\n",
      "('C', 'B', 'E', 'D', 'A')\n",
      "('C', 'D', 'A', 'B', 'E')\n",
      "('C', 'D', 'A', 'E', 'B')\n",
      "('C', 'D', 'B', 'A', 'E')\n",
      "('C', 'D', 'B', 'E', 'A')\n",
      "('C', 'D', 'E', 'A', 'B')\n",
      "('C', 'D', 'E', 'B', 'A')\n",
      "('C', 'E', 'A', 'B', 'D')\n",
      "('C', 'E', 'A', 'D', 'B')\n",
      "('C', 'E', 'B', 'A', 'D')\n",
      "('C', 'E', 'B', 'D', 'A')\n",
      "('C', 'E', 'D', 'A', 'B')\n",
      "('C', 'E', 'D', 'B', 'A')\n",
      "('D', 'A', 'B', 'C', 'E')\n",
      "('D', 'A', 'B', 'E', 'C')\n",
      "('D', 'A', 'C', 'B', 'E')\n",
      "('D', 'A', 'C', 'E', 'B')\n",
      "('D', 'A', 'E', 'B', 'C')\n",
      "('D', 'A', 'E', 'C', 'B')\n",
      "('D', 'B', 'A', 'C', 'E')\n",
      "('D', 'B', 'A', 'E', 'C')\n",
      "('D', 'B', 'C', 'A', 'E')\n",
      "('D', 'B', 'C', 'E', 'A')\n",
      "('D', 'B', 'E', 'A', 'C')\n",
      "('D', 'B', 'E', 'C', 'A')\n",
      "('D', 'C', 'A', 'B', 'E')\n",
      "('D', 'C', 'A', 'E', 'B')\n",
      "('D', 'C', 'B', 'A', 'E')\n",
      "('D', 'C', 'B', 'E', 'A')\n",
      "('D', 'C', 'E', 'A', 'B')\n",
      "('D', 'C', 'E', 'B', 'A')\n",
      "('D', 'E', 'A', 'B', 'C')\n",
      "('D', 'E', 'A', 'C', 'B')\n",
      "('D', 'E', 'B', 'A', 'C')\n",
      "('D', 'E', 'B', 'C', 'A')\n",
      "('D', 'E', 'C', 'A', 'B')\n",
      "('D', 'E', 'C', 'B', 'A')\n",
      "('E', 'A', 'B', 'C', 'D')\n",
      "('E', 'A', 'B', 'D', 'C')\n",
      "('E', 'A', 'C', 'B', 'D')\n",
      "('E', 'A', 'C', 'D', 'B')\n",
      "('E', 'A', 'D', 'B', 'C')\n",
      "('E', 'A', 'D', 'C', 'B')\n",
      "('E', 'B', 'A', 'C', 'D')\n",
      "('E', 'B', 'A', 'D', 'C')\n",
      "('E', 'B', 'C', 'A', 'D')\n",
      "('E', 'B', 'C', 'D', 'A')\n",
      "('E', 'B', 'D', 'A', 'C')\n",
      "('E', 'B', 'D', 'C', 'A')\n",
      "('E', 'C', 'A', 'B', 'D')\n",
      "('E', 'C', 'A', 'D', 'B')\n",
      "('E', 'C', 'B', 'A', 'D')\n",
      "('E', 'C', 'B', 'D', 'A')\n",
      "('E', 'C', 'D', 'A', 'B')\n",
      "('E', 'C', 'D', 'B', 'A')\n",
      "('E', 'D', 'A', 'B', 'C')\n",
      "('E', 'D', 'A', 'C', 'B')\n",
      "('E', 'D', 'B', 'A', 'C')\n",
      "('E', 'D', 'B', 'C', 'A')\n",
      "('E', 'D', 'C', 'A', 'B')\n",
      "('E', 'D', 'C', 'B', 'A')\n",
      "Всего комбинаций = 120\n"
     ]
    }
   ],
   "source": [
    "def factorial(n):\n",
    "    return reduce((lambda x,y: x*y),range(1,n+1))\n",
    "\n",
    "\n",
    "cnt, n = 0, 5\n",
    "# перестановка\n",
    "for i in itertools.permutations('ABCDE', n):\n",
    "    print(i)\n",
    "    cnt += 1\n",
    "\n",
    "print(f'Всего комбинаций = {cnt}')\n",
    "assert factorial(n) == cnt, 'формула перестановки неверна!'"
   ]
  },
  {
   "cell_type": "code",
   "execution_count": 352,
   "metadata": {},
   "outputs": [
    {
     "name": "stdout",
     "output_type": "stream",
     "text": [
      "('A', 'B', 'C')\n",
      "('A', 'B', 'D')\n",
      "('A', 'B', 'E')\n",
      "('A', 'C', 'B')\n",
      "('A', 'C', 'D')\n",
      "('A', 'C', 'E')\n",
      "('A', 'D', 'B')\n",
      "('A', 'D', 'C')\n",
      "('A', 'D', 'E')\n",
      "('A', 'E', 'B')\n",
      "('A', 'E', 'C')\n",
      "('A', 'E', 'D')\n",
      "('B', 'A', 'C')\n",
      "('B', 'A', 'D')\n",
      "('B', 'A', 'E')\n",
      "('B', 'C', 'A')\n",
      "('B', 'C', 'D')\n",
      "('B', 'C', 'E')\n",
      "('B', 'D', 'A')\n",
      "('B', 'D', 'C')\n",
      "('B', 'D', 'E')\n",
      "('B', 'E', 'A')\n",
      "('B', 'E', 'C')\n",
      "('B', 'E', 'D')\n",
      "('C', 'A', 'B')\n",
      "('C', 'A', 'D')\n",
      "('C', 'A', 'E')\n",
      "('C', 'B', 'A')\n",
      "('C', 'B', 'D')\n",
      "('C', 'B', 'E')\n",
      "('C', 'D', 'A')\n",
      "('C', 'D', 'B')\n",
      "('C', 'D', 'E')\n",
      "('C', 'E', 'A')\n",
      "('C', 'E', 'B')\n",
      "('C', 'E', 'D')\n",
      "('D', 'A', 'B')\n",
      "('D', 'A', 'C')\n",
      "('D', 'A', 'E')\n",
      "('D', 'B', 'A')\n",
      "('D', 'B', 'C')\n",
      "('D', 'B', 'E')\n",
      "('D', 'C', 'A')\n",
      "('D', 'C', 'B')\n",
      "('D', 'C', 'E')\n",
      "('D', 'E', 'A')\n",
      "('D', 'E', 'B')\n",
      "('D', 'E', 'C')\n",
      "('E', 'A', 'B')\n",
      "('E', 'A', 'C')\n",
      "('E', 'A', 'D')\n",
      "('E', 'B', 'A')\n",
      "('E', 'B', 'C')\n",
      "('E', 'B', 'D')\n",
      "('E', 'C', 'A')\n",
      "('E', 'C', 'B')\n",
      "('E', 'C', 'D')\n",
      "('E', 'D', 'A')\n",
      "('E', 'D', 'B')\n",
      "('E', 'D', 'C')\n",
      "Всего комбинаций = 60\n"
     ]
    }
   ],
   "source": [
    "def factorial(n):\n",
    "    return reduce((lambda x,y: x*y),range(1,n+1))\n",
    "\n",
    "\n",
    "cnt, n, k = 0, 5, 3\n",
    "# размещение\n",
    "for i in itertools.permutations('ABCDE', k):\n",
    "    print(i)\n",
    "    cnt += 1\n",
    "    \n",
    "print(f'Всего комбинаций = {cnt}')\n",
    "assert factorial(n) / factorial(n - k) == cnt, 'формула размещения неверна!'"
   ]
  },
  {
   "cell_type": "code",
   "execution_count": 351,
   "metadata": {},
   "outputs": [
    {
     "name": "stdout",
     "output_type": "stream",
     "text": [
      "('A', 'B', 'C')\n",
      "('A', 'B', 'D')\n",
      "('A', 'B', 'E')\n",
      "('A', 'C', 'D')\n",
      "('A', 'C', 'E')\n",
      "('A', 'D', 'E')\n",
      "('B', 'C', 'D')\n",
      "('B', 'C', 'E')\n",
      "('B', 'D', 'E')\n",
      "('C', 'D', 'E')\n",
      "Всего комбинаций = 10\n"
     ]
    }
   ],
   "source": [
    "def factorial(n):\n",
    "    return reduce((lambda x,y: x*y),range(1,n+1))\n",
    "\n",
    "\n",
    "cnt, n, k = 0, 5, 3\n",
    "# сочетание\n",
    "for i in itertools.combinations('ABCDE', k):\n",
    "    print(i)\n",
    "    cnt += 1\n",
    "    \n",
    "print(f'Всего комбинаций = {cnt}')\n",
    "assert factorial(n) / (factorial(k) * factorial(n - k)) == cnt, 'формула сочетания неверна!'"
   ]
  },
  {
   "cell_type": "markdown",
   "metadata": {},
   "source": [
    "### Задание 5\n",
    "Дополните код расчетом коэффициента корреляции x и y по формуле:\n",
    "$$R = \\frac{\\sum(x_i - x_m)(y_i - y_m)}{\\sqrt{\\sum(x_i - x_m)^2 \\sum(y_i - y_m)^2}}$$"
   ]
  },
  {
   "cell_type": "code",
   "execution_count": 427,
   "metadata": {},
   "outputs": [
    {
     "name": "stdout",
     "output_type": "stream",
     "text": [
      "[[1.        0.9683944]\n",
      " [0.9683944 1.       ]]\n",
      "0.9683943985953426\n"
     ]
    },
    {
     "name": "stderr",
     "output_type": "stream",
     "text": [
      "<ipython-input-427-ff836bb8751c>:19: FutureWarning: `rcond` parameter will change to the default of machine precision times ``max(M, N)`` where M and N are the input matrix dimensions.\n",
      "To use the future default and silence this warning we advise to pass `rcond=None`, to keep using the old, explicitly pass `rcond=-1`.\n",
      "  a1, b1 = np.linalg.lstsq(A, y)[0]\n"
     ]
    },
    {
     "data": {
      "image/png": "[encoded data removed]",
      "text/plain": [
       "<Figure size 432x288 with 1 Axes>"
      ]
     },
     "metadata": {
      "needs_background": "light"
     },
     "output_type": "display_data"
    }
   ],
   "source": [
    "n = 100\n",
    "r = 0.8\n",
    "x = np.random.rand(n)\n",
    "y = r*x + (1 - r) * np.random.rand(n)\n",
    "plt.plot(x, y, 'o')\n",
    "plt.xlabel('x')\n",
    "plt.ylabel('y')\n",
    "plt.grid()\n",
    "\n",
    "c = np.corrcoef(x ,y)\n",
    "print(c)\n",
    "\n",
    "numerator = sum((x - sum(x)/n) * (y - sum(y)/n))\n",
    "denominator = np.sqrt((sum((x - sum(x)/n) ** 2)) * (sum((y - sum(y)/n) ** 2)))\n",
    "corrcoef2 = numerator / denominator\n",
    "print(corrcoef2)\n",
    "\n",
    "A = np.vstack([x, np.ones(len(x))]).T\n",
    "a1, b1 = np.linalg.lstsq(A, y)[0]\n",
    "# print(a1, b1)\n",
    "plt.plot([0, 1], [b1, a1 + b1])\n",
    "plt.show()"
   ]
  },
  {
   "cell_type": "code",
   "execution_count": 424,
   "metadata": {},
   "outputs": [
    {
     "name": "stdout",
     "output_type": "stream",
     "text": [
      "[1 5 3 2]\n",
      "2.75\n",
      "[-1.75  2.25  0.25 -0.75]\n",
      "************************************************************\n",
      "[5 3 2 3]\n",
      "3.25\n",
      "[ 1.75 -0.25 -1.25 -0.25]\n",
      "************************************************************\n",
      "[-3.0625 -0.5625 -0.3125  0.1875]\n",
      "************************************************************\n",
      "-3.75\n",
      "************************************************************\n",
      "8.75\n",
      "4.75\n",
      "************************************************************\n",
      "6.4468984791138135\n"
     ]
    }
   ],
   "source": [
    "# черновик\n",
    "n = 4\n",
    "r = 0.8\n",
    "x = np.random.randint(0, 7, n)\n",
    "y = np.random.randint(0, 7, n)\n",
    "print(x)\n",
    "print(sum(x)/n)\n",
    "print(x - sum(x)/n)\n",
    "print('*' * 60)\n",
    "print(y)\n",
    "print(sum(y)/n)\n",
    "print(y - sum(y)/n)\n",
    "print('*' * 60)\n",
    "print((x - sum(x)/n) * (y - sum(y)/n))\n",
    "print('*' * 60)\n",
    "print(sum((x - sum(x)/n) * (y - sum(y)/n)))  # числитель\n",
    "print('*' * 60)\n",
    "print(sum((x - sum(x)/n) ** 2))\n",
    "print(sum((y - sum(y)/n) ** 2))\n",
    "print('*' * 60)\n",
    "print(np.sqrt((sum((x - sum(x)/n) ** 2)) * (sum((y - sum(y)/n) ** 2))))  # знаменатель"
   ]
  }
 ],
 "metadata": {
  "kernelspec": {
   "display_name": "Python 3",
   "language": "python",
   "name": "python3"
  },
  "language_info": {
   "codemirror_mode": {
    "name": "ipython",
    "version": 3
   },
   "file_extension": ".py",
   "mimetype": "text/x-python",
   "name": "python",
   "nbconvert_exporter": "python",
   "pygments_lexer": "ipython3",
   "version": "3.8.3"
  }
 },
 "nbformat": 4,
 "nbformat_minor": 4
}
